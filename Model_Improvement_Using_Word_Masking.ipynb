{
  "nbformat": 4,
  "nbformat_minor": 0,
  "metadata": {
    "colab": {
      "provenance": []
    },
    "kernelspec": {
      "name": "python3",
      "display_name": "Python 3"
    },
    "language_info": {
      "name": "python"
    },
    "accelerator": "GPU",
    "gpuClass": "standard"
  },
  "cells": [
    {
      "cell_type": "code",
      "execution_count": null,
      "metadata": {
        "id": "Yit-rH_xcsBC",
        "colab": {
          "base_uri": "https://localhost:8080/"
        },
        "outputId": "847f0cf1-6217-4fa4-81fe-eec12494e993"
      },
      "outputs": [
        {
          "output_type": "stream",
          "name": "stdout",
          "text": [
            "Mounted at /content/drive\n"
          ]
        }
      ],
      "source": [
        "from google.colab import drive\n",
        "drive.mount('/content/drive')"
      ]
    },
    {
      "cell_type": "code",
      "source": [
        "!pip install pytorch-pretrained-bert pytorch-nlp"
      ],
      "metadata": {
        "id": "My-XpwTveNTl",
        "colab": {
          "base_uri": "https://localhost:8080/"
        },
        "outputId": "95b7739b-fb29-432b-a31c-6cb38fd0c3d7"
      },
      "execution_count": null,
      "outputs": [
        {
          "output_type": "stream",
          "name": "stdout",
          "text": [
            "Looking in indexes: https://pypi.org/simple, https://us-python.pkg.dev/colab-wheels/public/simple/\n",
            "Collecting pytorch-pretrained-bert\n",
            "  Downloading pytorch_pretrained_bert-0.6.2-py3-none-any.whl (123 kB)\n",
            "\u001b[2K     \u001b[90m━━━━━━━━━━━━━━━━━━━━━━━━━━━━━━━━━━━━━━━\u001b[0m \u001b[32m123.8/123.8 kB\u001b[0m \u001b[31m2.5 MB/s\u001b[0m eta \u001b[36m0:00:00\u001b[0m\n",
            "\u001b[?25hCollecting pytorch-nlp\n",
            "  Downloading pytorch_nlp-0.5.0-py3-none-any.whl (90 kB)\n",
            "\u001b[2K     \u001b[90m━━━━━━━━━━━━━━━━━━━━━━━━━━━━━━━━━━━━━━━━\u001b[0m \u001b[32m90.1/90.1 kB\u001b[0m \u001b[31m4.4 MB/s\u001b[0m eta \u001b[36m0:00:00\u001b[0m\n",
            "\u001b[?25hCollecting boto3\n",
            "  Downloading boto3-1.26.127-py3-none-any.whl (135 kB)\n",
            "\u001b[2K     \u001b[90m━━━━━━━━━━━━━━━━━━━━━━━━━━━━━━━━━━━━━━━\u001b[0m \u001b[32m135.6/135.6 kB\u001b[0m \u001b[31m6.3 MB/s\u001b[0m eta \u001b[36m0:00:00\u001b[0m\n",
            "\u001b[?25hRequirement already satisfied: tqdm in /usr/local/lib/python3.10/dist-packages (from pytorch-pretrained-bert) (4.65.0)\n",
            "Requirement already satisfied: torch>=0.4.1 in /usr/local/lib/python3.10/dist-packages (from pytorch-pretrained-bert) (2.0.0+cu118)\n",
            "Requirement already satisfied: regex in /usr/local/lib/python3.10/dist-packages (from pytorch-pretrained-bert) (2022.10.31)\n",
            "Requirement already satisfied: requests in /usr/local/lib/python3.10/dist-packages (from pytorch-pretrained-bert) (2.27.1)\n",
            "Requirement already satisfied: numpy in /usr/local/lib/python3.10/dist-packages (from pytorch-pretrained-bert) (1.22.4)\n",
            "Requirement already satisfied: jinja2 in /usr/local/lib/python3.10/dist-packages (from torch>=0.4.1->pytorch-pretrained-bert) (3.1.2)\n",
            "Requirement already satisfied: triton==2.0.0 in /usr/local/lib/python3.10/dist-packages (from torch>=0.4.1->pytorch-pretrained-bert) (2.0.0)\n",
            "Requirement already satisfied: networkx in /usr/local/lib/python3.10/dist-packages (from torch>=0.4.1->pytorch-pretrained-bert) (3.1)\n",
            "Requirement already satisfied: sympy in /usr/local/lib/python3.10/dist-packages (from torch>=0.4.1->pytorch-pretrained-bert) (1.11.1)\n",
            "Requirement already satisfied: filelock in /usr/local/lib/python3.10/dist-packages (from torch>=0.4.1->pytorch-pretrained-bert) (3.12.0)\n",
            "Requirement already satisfied: typing-extensions in /usr/local/lib/python3.10/dist-packages (from torch>=0.4.1->pytorch-pretrained-bert) (4.5.0)\n",
            "Requirement already satisfied: lit in /usr/local/lib/python3.10/dist-packages (from triton==2.0.0->torch>=0.4.1->pytorch-pretrained-bert) (16.0.2)\n",
            "Requirement already satisfied: cmake in /usr/local/lib/python3.10/dist-packages (from triton==2.0.0->torch>=0.4.1->pytorch-pretrained-bert) (3.25.2)\n",
            "Collecting s3transfer<0.7.0,>=0.6.0\n",
            "  Downloading s3transfer-0.6.1-py3-none-any.whl (79 kB)\n",
            "\u001b[2K     \u001b[90m━━━━━━━━━━━━━━━━━━━━━━━━━━━━━━━━━━━━━━━━\u001b[0m \u001b[32m79.8/79.8 kB\u001b[0m \u001b[31m9.6 MB/s\u001b[0m eta \u001b[36m0:00:00\u001b[0m\n",
            "\u001b[?25hCollecting jmespath<2.0.0,>=0.7.1\n",
            "  Downloading jmespath-1.0.1-py3-none-any.whl (20 kB)\n",
            "Collecting botocore<1.30.0,>=1.29.127\n",
            "  Downloading botocore-1.29.127-py3-none-any.whl (10.7 MB)\n",
            "\u001b[2K     \u001b[90m━━━━━━━━━━━━━━━━━━━━━━━━━━━━━━━━━━━━━━━━\u001b[0m \u001b[32m10.7/10.7 MB\u001b[0m \u001b[31m69.5 MB/s\u001b[0m eta \u001b[36m0:00:00\u001b[0m\n",
            "\u001b[?25hRequirement already satisfied: certifi>=2017.4.17 in /usr/local/lib/python3.10/dist-packages (from requests->pytorch-pretrained-bert) (2022.12.7)\n",
            "Requirement already satisfied: charset-normalizer~=2.0.0 in /usr/local/lib/python3.10/dist-packages (from requests->pytorch-pretrained-bert) (2.0.12)\n",
            "Requirement already satisfied: idna<4,>=2.5 in /usr/local/lib/python3.10/dist-packages (from requests->pytorch-pretrained-bert) (3.4)\n",
            "Requirement already satisfied: urllib3<1.27,>=1.21.1 in /usr/local/lib/python3.10/dist-packages (from requests->pytorch-pretrained-bert) (1.26.15)\n",
            "Requirement already satisfied: python-dateutil<3.0.0,>=2.1 in /usr/local/lib/python3.10/dist-packages (from botocore<1.30.0,>=1.29.127->boto3->pytorch-pretrained-bert) (2.8.2)\n",
            "Requirement already satisfied: MarkupSafe>=2.0 in /usr/local/lib/python3.10/dist-packages (from jinja2->torch>=0.4.1->pytorch-pretrained-bert) (2.1.2)\n",
            "Requirement already satisfied: mpmath>=0.19 in /usr/local/lib/python3.10/dist-packages (from sympy->torch>=0.4.1->pytorch-pretrained-bert) (1.3.0)\n",
            "Requirement already satisfied: six>=1.5 in /usr/local/lib/python3.10/dist-packages (from python-dateutil<3.0.0,>=2.1->botocore<1.30.0,>=1.29.127->boto3->pytorch-pretrained-bert) (1.16.0)\n",
            "Installing collected packages: pytorch-nlp, jmespath, botocore, s3transfer, boto3, pytorch-pretrained-bert\n",
            "Successfully installed boto3-1.26.127 botocore-1.29.127 jmespath-1.0.1 pytorch-nlp-0.5.0 pytorch-pretrained-bert-0.6.2 s3transfer-0.6.1\n"
          ]
        }
      ]
    },
    {
      "cell_type": "code",
      "source": [
        "import tensorflow as tf\n",
        "import torch\n",
        "from torch.utils.data import TensorDataset, DataLoader, RandomSampler, SequentialSampler\n",
        "from tensorflow.keras.preprocessing.sequence import pad_sequences\n",
        "from sklearn.model_selection import train_test_split\n",
        "from pytorch_pretrained_bert import BertTokenizer, BertConfig\n",
        "from pytorch_pretrained_bert import BertAdam, BertForSequenceClassification\n",
        "from sklearn.metrics import confusion_matrix\n",
        "from sklearn.metrics import ConfusionMatrixDisplay\n",
        "import pandas as pd\n",
        "import io\n",
        "import numpy as np\n",
        "from collections import Counter\n",
        "import matplotlib.pyplot as plt\n",
        "import random\n",
        "import re\n",
        "%matplotlib inline"
      ],
      "metadata": {
        "id": "o07b5U5GePnY"
      },
      "execution_count": null,
      "outputs": []
    },
    {
      "cell_type": "code",
      "source": [
        "import warnings\n",
        "warnings.filterwarnings(\"ignore\")"
      ],
      "metadata": {
        "id": "3FDEheXb9xsD"
      },
      "execution_count": null,
      "outputs": []
    },
    {
      "cell_type": "code",
      "source": [
        "df = pd.read_csv('/content/drive/MyDrive/Responsible AI - Team #9 Folder/Audit/Audit Data/Original Data (Small).csv')\n",
        "df.head()"
      ],
      "metadata": {
        "id": "N-2Bv5Z8eSAe",
        "colab": {
          "base_uri": "https://localhost:8080/",
          "height": 206
        },
        "outputId": "d397e8bb-fd86-4e66-8e6e-2beda6243537"
      },
      "execution_count": null,
      "outputs": [
        {
          "output_type": "execute_result",
          "data": {
            "text/plain": [
              "                                            Comments  Labels\n",
              "0  [CLS] .\\n\\nThe next time you buy a car, all th...       0\n",
              "1           [CLS] I don't trust Nanos Polling. [SEP]       0\n",
              "2  [CLS] Police took the woman's version that the...       0\n",
              "3  [CLS] The study found that between 2-8% of ass...       0\n",
              "4  [CLS] Seems most of the new jobs are part time...       0"
            ],
            "text/html": [
              "\n",
              "  <div id=\"df-05ff9d50-6eff-4a04-b20e-10a0b6084d6d\">\n",
              "    <div class=\"colab-df-container\">\n",
              "      <div>\n",
              "<style scoped>\n",
              "    .dataframe tbody tr th:only-of-type {\n",
              "        vertical-align: middle;\n",
              "    }\n",
              "\n",
              "    .dataframe tbody tr th {\n",
              "        vertical-align: top;\n",
              "    }\n",
              "\n",
              "    .dataframe thead th {\n",
              "        text-align: right;\n",
              "    }\n",
              "</style>\n",
              "<table border=\"1\" class=\"dataframe\">\n",
              "  <thead>\n",
              "    <tr style=\"text-align: right;\">\n",
              "      <th></th>\n",
              "      <th>Comments</th>\n",
              "      <th>Labels</th>\n",
              "    </tr>\n",
              "  </thead>\n",
              "  <tbody>\n",
              "    <tr>\n",
              "      <th>0</th>\n",
              "      <td>[CLS] .\\n\\nThe next time you buy a car, all th...</td>\n",
              "      <td>0</td>\n",
              "    </tr>\n",
              "    <tr>\n",
              "      <th>1</th>\n",
              "      <td>[CLS] I don't trust Nanos Polling. [SEP]</td>\n",
              "      <td>0</td>\n",
              "    </tr>\n",
              "    <tr>\n",
              "      <th>2</th>\n",
              "      <td>[CLS] Police took the woman's version that the...</td>\n",
              "      <td>0</td>\n",
              "    </tr>\n",
              "    <tr>\n",
              "      <th>3</th>\n",
              "      <td>[CLS] The study found that between 2-8% of ass...</td>\n",
              "      <td>0</td>\n",
              "    </tr>\n",
              "    <tr>\n",
              "      <th>4</th>\n",
              "      <td>[CLS] Seems most of the new jobs are part time...</td>\n",
              "      <td>0</td>\n",
              "    </tr>\n",
              "  </tbody>\n",
              "</table>\n",
              "</div>\n",
              "      <button class=\"colab-df-convert\" onclick=\"convertToInteractive('df-05ff9d50-6eff-4a04-b20e-10a0b6084d6d')\"\n",
              "              title=\"Convert this dataframe to an interactive table.\"\n",
              "              style=\"display:none;\">\n",
              "        \n",
              "  <svg xmlns=\"http://www.w3.org/2000/svg\" height=\"24px\"viewBox=\"0 0 24 24\"\n",
              "       width=\"24px\">\n",
              "    <path d=\"M0 0h24v24H0V0z\" fill=\"none\"/>\n",
              "    <path d=\"M18.56 5.44l.94 2.06.94-2.06 2.06-.94-2.06-.94-.94-2.06-.94 2.06-2.06.94zm-11 1L8.5 8.5l.94-2.06 2.06-.94-2.06-.94L8.5 2.5l-.94 2.06-2.06.94zm10 10l.94 2.06.94-2.06 2.06-.94-2.06-.94-.94-2.06-.94 2.06-2.06.94z\"/><path d=\"M17.41 7.96l-1.37-1.37c-.4-.4-.92-.59-1.43-.59-.52 0-1.04.2-1.43.59L10.3 9.45l-7.72 7.72c-.78.78-.78 2.05 0 2.83L4 21.41c.39.39.9.59 1.41.59.51 0 1.02-.2 1.41-.59l7.78-7.78 2.81-2.81c.8-.78.8-2.07 0-2.86zM5.41 20L4 18.59l7.72-7.72 1.47 1.35L5.41 20z\"/>\n",
              "  </svg>\n",
              "      </button>\n",
              "      \n",
              "  <style>\n",
              "    .colab-df-container {\n",
              "      display:flex;\n",
              "      flex-wrap:wrap;\n",
              "      gap: 12px;\n",
              "    }\n",
              "\n",
              "    .colab-df-convert {\n",
              "      background-color: #E8F0FE;\n",
              "      border: none;\n",
              "      border-radius: 50%;\n",
              "      cursor: pointer;\n",
              "      display: none;\n",
              "      fill: #1967D2;\n",
              "      height: 32px;\n",
              "      padding: 0 0 0 0;\n",
              "      width: 32px;\n",
              "    }\n",
              "\n",
              "    .colab-df-convert:hover {\n",
              "      background-color: #E2EBFA;\n",
              "      box-shadow: 0px 1px 2px rgba(60, 64, 67, 0.3), 0px 1px 3px 1px rgba(60, 64, 67, 0.15);\n",
              "      fill: #174EA6;\n",
              "    }\n",
              "\n",
              "    [theme=dark] .colab-df-convert {\n",
              "      background-color: #3B4455;\n",
              "      fill: #D2E3FC;\n",
              "    }\n",
              "\n",
              "    [theme=dark] .colab-df-convert:hover {\n",
              "      background-color: #434B5C;\n",
              "      box-shadow: 0px 1px 3px 1px rgba(0, 0, 0, 0.15);\n",
              "      filter: drop-shadow(0px 1px 2px rgba(0, 0, 0, 0.3));\n",
              "      fill: #FFFFFF;\n",
              "    }\n",
              "  </style>\n",
              "\n",
              "      <script>\n",
              "        const buttonEl =\n",
              "          document.querySelector('#df-05ff9d50-6eff-4a04-b20e-10a0b6084d6d button.colab-df-convert');\n",
              "        buttonEl.style.display =\n",
              "          google.colab.kernel.accessAllowed ? 'block' : 'none';\n",
              "\n",
              "        async function convertToInteractive(key) {\n",
              "          const element = document.querySelector('#df-05ff9d50-6eff-4a04-b20e-10a0b6084d6d');\n",
              "          const dataTable =\n",
              "            await google.colab.kernel.invokeFunction('convertToInteractive',\n",
              "                                                     [key], {});\n",
              "          if (!dataTable) return;\n",
              "\n",
              "          const docLinkHtml = 'Like what you see? Visit the ' +\n",
              "            '<a target=\"_blank\" href=https://colab.research.google.com/notebooks/data_table.ipynb>data table notebook</a>'\n",
              "            + ' to learn more about interactive tables.';\n",
              "          element.innerHTML = '';\n",
              "          dataTable['output_type'] = 'display_data';\n",
              "          await google.colab.output.renderOutput(dataTable, element);\n",
              "          const docLink = document.createElement('div');\n",
              "          docLink.innerHTML = docLinkHtml;\n",
              "          element.appendChild(docLink);\n",
              "        }\n",
              "      </script>\n",
              "    </div>\n",
              "  </div>\n",
              "  "
            ]
          },
          "metadata": {},
          "execution_count": 6
        }
      ]
    },
    {
      "cell_type": "code",
      "source": [
        "df.shape"
      ],
      "metadata": {
        "colab": {
          "base_uri": "https://localhost:8080/"
        },
        "id": "IhtwJ_z6A8Ef",
        "outputId": "78aae66f-678e-4547-aa33-b0ea0f161f41"
      },
      "execution_count": null,
      "outputs": [
        {
          "output_type": "execute_result",
          "data": {
            "text/plain": [
              "(25671, 2)"
            ]
          },
          "metadata": {},
          "execution_count": 7
        }
      ]
    },
    {
      "cell_type": "code",
      "source": [
        "word_list = ['Muslim', 'muslim', 'Muslims', 'muslims']\n",
        "mask = df['Comments'].str.contains('|'.join(word_list))\n",
        "filtered_df = df[mask]"
      ],
      "metadata": {
        "id": "hTDfZuySyNSZ"
      },
      "execution_count": null,
      "outputs": []
    },
    {
      "cell_type": "code",
      "source": [
        "filtered_df.reset_index(inplace = True)\n",
        "filtered_df.drop('index', axis = 1, inplace = True)\n",
        "filtered_df"
      ],
      "metadata": {
        "colab": {
          "base_uri": "https://localhost:8080/",
          "height": 424
        },
        "id": "Euogr13n8jng",
        "outputId": "751a04e7-a705-46b1-ea40-9920932f1565"
      },
      "execution_count": null,
      "outputs": [
        {
          "output_type": "execute_result",
          "data": {
            "text/plain": [
              "                                               Comments  Labels\n",
              "0     [CLS] I agree the Muslim Ban isn't racist. It ...       0\n",
              "1     [CLS] The author is described as an\"associate ...       0\n",
              "2     [CLS] There aren't any \"liberal democrats (sic...       0\n",
              "3     [CLS] The 'inclusion' offered by totalitarian-...       0\n",
              "4     [CLS] The Muslims that deny the Holocaust exis...       0\n",
              "...                                                 ...     ...\n",
              "2922  [CLS] Seven of the top 11 recipients of foreig...       0\n",
              "2923  [CLS] It's the leftwing of the Labour Party an...       1\n",
              "2924  [CLS] I don't want to flag your post, GBA, I w...       0\n",
              "2925  [CLS] Muslim radical today plows into crowd in...       0\n",
              "2926  [CLS] After all if they can gather and protest...       0\n",
              "\n",
              "[2927 rows x 2 columns]"
            ],
            "text/html": [
              "\n",
              "  <div id=\"df-6aec38e1-91b2-456c-a9b6-1aa3d76c9a73\">\n",
              "    <div class=\"colab-df-container\">\n",
              "      <div>\n",
              "<style scoped>\n",
              "    .dataframe tbody tr th:only-of-type {\n",
              "        vertical-align: middle;\n",
              "    }\n",
              "\n",
              "    .dataframe tbody tr th {\n",
              "        vertical-align: top;\n",
              "    }\n",
              "\n",
              "    .dataframe thead th {\n",
              "        text-align: right;\n",
              "    }\n",
              "</style>\n",
              "<table border=\"1\" class=\"dataframe\">\n",
              "  <thead>\n",
              "    <tr style=\"text-align: right;\">\n",
              "      <th></th>\n",
              "      <th>Comments</th>\n",
              "      <th>Labels</th>\n",
              "    </tr>\n",
              "  </thead>\n",
              "  <tbody>\n",
              "    <tr>\n",
              "      <th>0</th>\n",
              "      <td>[CLS] I agree the Muslim Ban isn't racist. It ...</td>\n",
              "      <td>0</td>\n",
              "    </tr>\n",
              "    <tr>\n",
              "      <th>1</th>\n",
              "      <td>[CLS] The author is described as an\"associate ...</td>\n",
              "      <td>0</td>\n",
              "    </tr>\n",
              "    <tr>\n",
              "      <th>2</th>\n",
              "      <td>[CLS] There aren't any \"liberal democrats (sic...</td>\n",
              "      <td>0</td>\n",
              "    </tr>\n",
              "    <tr>\n",
              "      <th>3</th>\n",
              "      <td>[CLS] The 'inclusion' offered by totalitarian-...</td>\n",
              "      <td>0</td>\n",
              "    </tr>\n",
              "    <tr>\n",
              "      <th>4</th>\n",
              "      <td>[CLS] The Muslims that deny the Holocaust exis...</td>\n",
              "      <td>0</td>\n",
              "    </tr>\n",
              "    <tr>\n",
              "      <th>...</th>\n",
              "      <td>...</td>\n",
              "      <td>...</td>\n",
              "    </tr>\n",
              "    <tr>\n",
              "      <th>2922</th>\n",
              "      <td>[CLS] Seven of the top 11 recipients of foreig...</td>\n",
              "      <td>0</td>\n",
              "    </tr>\n",
              "    <tr>\n",
              "      <th>2923</th>\n",
              "      <td>[CLS] It's the leftwing of the Labour Party an...</td>\n",
              "      <td>1</td>\n",
              "    </tr>\n",
              "    <tr>\n",
              "      <th>2924</th>\n",
              "      <td>[CLS] I don't want to flag your post, GBA, I w...</td>\n",
              "      <td>0</td>\n",
              "    </tr>\n",
              "    <tr>\n",
              "      <th>2925</th>\n",
              "      <td>[CLS] Muslim radical today plows into crowd in...</td>\n",
              "      <td>0</td>\n",
              "    </tr>\n",
              "    <tr>\n",
              "      <th>2926</th>\n",
              "      <td>[CLS] After all if they can gather and protest...</td>\n",
              "      <td>0</td>\n",
              "    </tr>\n",
              "  </tbody>\n",
              "</table>\n",
              "<p>2927 rows × 2 columns</p>\n",
              "</div>\n",
              "      <button class=\"colab-df-convert\" onclick=\"convertToInteractive('df-6aec38e1-91b2-456c-a9b6-1aa3d76c9a73')\"\n",
              "              title=\"Convert this dataframe to an interactive table.\"\n",
              "              style=\"display:none;\">\n",
              "        \n",
              "  <svg xmlns=\"http://www.w3.org/2000/svg\" height=\"24px\"viewBox=\"0 0 24 24\"\n",
              "       width=\"24px\">\n",
              "    <path d=\"M0 0h24v24H0V0z\" fill=\"none\"/>\n",
              "    <path d=\"M18.56 5.44l.94 2.06.94-2.06 2.06-.94-2.06-.94-.94-2.06-.94 2.06-2.06.94zm-11 1L8.5 8.5l.94-2.06 2.06-.94-2.06-.94L8.5 2.5l-.94 2.06-2.06.94zm10 10l.94 2.06.94-2.06 2.06-.94-2.06-.94-.94-2.06-.94 2.06-2.06.94z\"/><path d=\"M17.41 7.96l-1.37-1.37c-.4-.4-.92-.59-1.43-.59-.52 0-1.04.2-1.43.59L10.3 9.45l-7.72 7.72c-.78.78-.78 2.05 0 2.83L4 21.41c.39.39.9.59 1.41.59.51 0 1.02-.2 1.41-.59l7.78-7.78 2.81-2.81c.8-.78.8-2.07 0-2.86zM5.41 20L4 18.59l7.72-7.72 1.47 1.35L5.41 20z\"/>\n",
              "  </svg>\n",
              "      </button>\n",
              "      \n",
              "  <style>\n",
              "    .colab-df-container {\n",
              "      display:flex;\n",
              "      flex-wrap:wrap;\n",
              "      gap: 12px;\n",
              "    }\n",
              "\n",
              "    .colab-df-convert {\n",
              "      background-color: #E8F0FE;\n",
              "      border: none;\n",
              "      border-radius: 50%;\n",
              "      cursor: pointer;\n",
              "      display: none;\n",
              "      fill: #1967D2;\n",
              "      height: 32px;\n",
              "      padding: 0 0 0 0;\n",
              "      width: 32px;\n",
              "    }\n",
              "\n",
              "    .colab-df-convert:hover {\n",
              "      background-color: #E2EBFA;\n",
              "      box-shadow: 0px 1px 2px rgba(60, 64, 67, 0.3), 0px 1px 3px 1px rgba(60, 64, 67, 0.15);\n",
              "      fill: #174EA6;\n",
              "    }\n",
              "\n",
              "    [theme=dark] .colab-df-convert {\n",
              "      background-color: #3B4455;\n",
              "      fill: #D2E3FC;\n",
              "    }\n",
              "\n",
              "    [theme=dark] .colab-df-convert:hover {\n",
              "      background-color: #434B5C;\n",
              "      box-shadow: 0px 1px 3px 1px rgba(0, 0, 0, 0.15);\n",
              "      filter: drop-shadow(0px 1px 2px rgba(0, 0, 0, 0.3));\n",
              "      fill: #FFFFFF;\n",
              "    }\n",
              "  </style>\n",
              "\n",
              "      <script>\n",
              "        const buttonEl =\n",
              "          document.querySelector('#df-6aec38e1-91b2-456c-a9b6-1aa3d76c9a73 button.colab-df-convert');\n",
              "        buttonEl.style.display =\n",
              "          google.colab.kernel.accessAllowed ? 'block' : 'none';\n",
              "\n",
              "        async function convertToInteractive(key) {\n",
              "          const element = document.querySelector('#df-6aec38e1-91b2-456c-a9b6-1aa3d76c9a73');\n",
              "          const dataTable =\n",
              "            await google.colab.kernel.invokeFunction('convertToInteractive',\n",
              "                                                     [key], {});\n",
              "          if (!dataTable) return;\n",
              "\n",
              "          const docLinkHtml = 'Like what you see? Visit the ' +\n",
              "            '<a target=\"_blank\" href=https://colab.research.google.com/notebooks/data_table.ipynb>data table notebook</a>'\n",
              "            + ' to learn more about interactive tables.';\n",
              "          element.innerHTML = '';\n",
              "          dataTable['output_type'] = 'display_data';\n",
              "          await google.colab.output.renderOutput(dataTable, element);\n",
              "          const docLink = document.createElement('div');\n",
              "          docLink.innerHTML = docLinkHtml;\n",
              "          element.appendChild(docLink);\n",
              "        }\n",
              "      </script>\n",
              "    </div>\n",
              "  </div>\n",
              "  "
            ]
          },
          "metadata": {},
          "execution_count": 9
        }
      ]
    },
    {
      "cell_type": "code",
      "source": [
        "comms = filtered_df['Comments']\n",
        "lals = filtered_df['Labels']\n",
        "l1 = ['Christian', 'Hindu', 'Buddhist', 'Jew']\n",
        "l2 = ['christian', 'hindu', 'buddhist', 'jew']\n",
        "l3 = ['Christians', 'Hindus', 'Buddhists', 'Jews']\n",
        "l4 = ['christians', 'hindus', 'buddhists', 'jews']\n",
        "\n",
        "for i in range(len(comms)):\n",
        "  z = comms[i].split(\" \")\n",
        "  if 'Muslim' in z:\n",
        "    comms[i] = comms[i].replace('Muslim', l1[random.randint(0, 3)])\n",
        "  elif 'muslim' in z:\n",
        "    comms[i] = comms[i].replace('muslim', l2[random.randint(0, 3)])\n",
        "  elif 'Muslims' in z:\n",
        "    comms[i] = comms[i].replace('Muslims', l3[random.randint(0, 3)])\n",
        "  elif 'muslims' in z:\n",
        "    comms[i] = comms[i].replace('muslims', l4[random.randint(0, 3)])"
      ],
      "metadata": {
        "id": "gMZA2SCF32cS"
      },
      "execution_count": null,
      "outputs": []
    },
    {
      "cell_type": "code",
      "source": [
        "word_list = ['Christian', 'christian', 'Christians', 'christians']\n",
        "mask = df['Comments'].str.contains('|'.join(word_list))\n",
        "filtered_df_2 = df[mask]"
      ],
      "metadata": {
        "id": "Lvg_IOCn-Kog"
      },
      "execution_count": null,
      "outputs": []
    },
    {
      "cell_type": "code",
      "source": [
        "filtered_df_2.reset_index(inplace = True)\n",
        "filtered_df_2.drop('index', axis = 1, inplace = True)"
      ],
      "metadata": {
        "id": "_qVxVw4p_Hmb"
      },
      "execution_count": null,
      "outputs": []
    },
    {
      "cell_type": "code",
      "source": [
        "filtered_df_2.shape"
      ],
      "metadata": {
        "colab": {
          "base_uri": "https://localhost:8080/"
        },
        "id": "45CBb4-9-Ssq",
        "outputId": "577a233d-abae-4388-ab3d-97b52e020e3a"
      },
      "execution_count": null,
      "outputs": [
        {
          "output_type": "execute_result",
          "data": {
            "text/plain": [
              "(655, 2)"
            ]
          },
          "metadata": {},
          "execution_count": 13
        }
      ]
    },
    {
      "cell_type": "code",
      "source": [
        "comms = filtered_df_2['Comments']\n",
        "lals = filtered_df_2['Labels']\n",
        "\n",
        "for i in range(len(comms)):\n",
        "  z = comms[i].split(\" \")\n",
        "  if 'Christian' in z:\n",
        "    comms[i] = comms[i].replace('Christian', 'Muslim')\n",
        "  elif 'christian' in z:\n",
        "    comms[i] = comms[i].replace('christian', 'muslim')\n",
        "  elif 'Christians' in z:\n",
        "    comms[i] = comms[i].replace('Christians', 'Muslims')\n",
        "  elif 'christians' in z:\n",
        "    comms[i] = comms[i].replace('christians', 'muslims')"
      ],
      "metadata": {
        "id": "bvWYHN1F-v_x"
      },
      "execution_count": null,
      "outputs": []
    },
    {
      "cell_type": "code",
      "source": [
        "word_list = ['Hindu', 'hindu', 'Hindus', 'hindus']\n",
        "mask = df['Comments'].str.contains('|'.join(word_list))\n",
        "filtered_df_3 = df[mask]"
      ],
      "metadata": {
        "id": "8vYPAATP9mQ1"
      },
      "execution_count": null,
      "outputs": []
    },
    {
      "cell_type": "code",
      "source": [
        "filtered_df_3.reset_index(inplace = True)\n",
        "filtered_df_3.drop('index', axis = 1, inplace = True)"
      ],
      "metadata": {
        "id": "f14EfJYB_xcv"
      },
      "execution_count": null,
      "outputs": []
    },
    {
      "cell_type": "code",
      "source": [
        "filtered_df_3.shape"
      ],
      "metadata": {
        "colab": {
          "base_uri": "https://localhost:8080/"
        },
        "id": "iS42fbKi-CQR",
        "outputId": "9a7297a2-d0c9-4a9e-be00-c6b221ee96e8"
      },
      "execution_count": null,
      "outputs": [
        {
          "output_type": "execute_result",
          "data": {
            "text/plain": [
              "(73, 2)"
            ]
          },
          "metadata": {},
          "execution_count": 17
        }
      ]
    },
    {
      "cell_type": "code",
      "source": [
        "comms = filtered_df_3['Comments']\n",
        "lals = filtered_df_3['Labels']\n",
        "\n",
        "for i in range(len(comms)):\n",
        "  z = comms[i].split(\" \")\n",
        "  if 'Hindu' in z:\n",
        "    comms[i] = comms[i].replace('Hindu', 'Muslim')\n",
        "  elif 'hindu' in z:\n",
        "    comms[i] = comms[i].replace('hindu', 'muslim')\n",
        "  elif 'Hindus' in z:\n",
        "    comms[i] = comms[i].replace('Hindus', 'Muslims')\n",
        "  elif 'hindus' in z:\n",
        "    comms[i] = comms[i].replace('hindus', 'muslims')"
      ],
      "metadata": {
        "id": "PFFaaeKV_3Up"
      },
      "execution_count": null,
      "outputs": []
    },
    {
      "cell_type": "code",
      "source": [
        "word_list = ['Buddhist', 'buddhist', 'Buddhists', 'buddhists']\n",
        "mask = df['Comments'].str.contains('|'.join(word_list))\n",
        "filtered_df_4 = df[mask]"
      ],
      "metadata": {
        "id": "dDyoVMkY-V2P"
      },
      "execution_count": null,
      "outputs": []
    },
    {
      "cell_type": "code",
      "source": [
        "filtered_df_4.reset_index(inplace = True)\n",
        "filtered_df_4.drop('index', axis = 1, inplace = True)"
      ],
      "metadata": {
        "id": "2jg-o8hvAMiy"
      },
      "execution_count": null,
      "outputs": []
    },
    {
      "cell_type": "code",
      "source": [
        "filtered_df_4.shape"
      ],
      "metadata": {
        "colab": {
          "base_uri": "https://localhost:8080/"
        },
        "id": "7N0BalZs-V6B",
        "outputId": "5ff07249-30ef-4839-bfa9-af99df42551f"
      },
      "execution_count": null,
      "outputs": [
        {
          "output_type": "execute_result",
          "data": {
            "text/plain": [
              "(53, 2)"
            ]
          },
          "metadata": {},
          "execution_count": 21
        }
      ]
    },
    {
      "cell_type": "code",
      "source": [
        "comms = filtered_df_4['Comments']\n",
        "lals = filtered_df_4['Labels']\n",
        "\n",
        "for i in range(len(comms)):\n",
        "  z = comms[i].split(\" \")\n",
        "  if 'Buddhist' in z:\n",
        "    comms[i] = comms[i].replace('Buddhist', 'Muslim')\n",
        "  elif 'buddhist' in z:\n",
        "    comms[i] = comms[i].replace('buddhist', 'muslim')\n",
        "  elif 'Buddhists' in z:\n",
        "    comms[i] = comms[i].replace('Buddhists', 'Muslims')\n",
        "  elif 'buddhists' in z:\n",
        "    comms[i] = comms[i].replace('buddhists', 'muslims')"
      ],
      "metadata": {
        "id": "YMmZjWpgAPFP"
      },
      "execution_count": null,
      "outputs": []
    },
    {
      "cell_type": "code",
      "source": [
        "word_list = ['Jew', 'jew', 'Jews', 'jews']\n",
        "mask = df['Comments'].str.contains('|'.join(word_list))\n",
        "filtered_df_5 = df[mask]"
      ],
      "metadata": {
        "id": "RsPj9wqT-V9f"
      },
      "execution_count": null,
      "outputs": []
    },
    {
      "cell_type": "code",
      "source": [
        "filtered_df_5.reset_index(inplace = True)\n",
        "filtered_df_5.drop('index', axis = 1, inplace = True)"
      ],
      "metadata": {
        "id": "Gu-9_dQZAioS"
      },
      "execution_count": null,
      "outputs": []
    },
    {
      "cell_type": "code",
      "source": [
        "filtered_df_5.shape"
      ],
      "metadata": {
        "colab": {
          "base_uri": "https://localhost:8080/"
        },
        "id": "r4Dp5jxT-WBc",
        "outputId": "0e3df17d-22a4-471d-e16b-ac89f94940cd"
      },
      "execution_count": null,
      "outputs": [
        {
          "output_type": "execute_result",
          "data": {
            "text/plain": [
              "(381, 2)"
            ]
          },
          "metadata": {},
          "execution_count": 25
        }
      ]
    },
    {
      "cell_type": "code",
      "source": [
        "comms = filtered_df_5['Comments']\n",
        "lals = filtered_df_5['Labels']\n",
        "\n",
        "for i in range(len(comms)):\n",
        "  z = comms[i].split(\" \")\n",
        "  if 'Jew' in z:\n",
        "    comms[i] = comms[i].replace('Jew', 'Muslim')\n",
        "  elif 'jew' in z:\n",
        "    comms[i] = comms[i].replace('jew', 'muslim')\n",
        "  elif 'Jews' in z:\n",
        "    comms[i] = comms[i].replace('Jews', 'Muslims')\n",
        "  elif 'jews' in z:\n",
        "    comms[i] = comms[i].replace('jews', 'muslims')"
      ],
      "metadata": {
        "id": "Sm-MrNZa-Dfb"
      },
      "execution_count": null,
      "outputs": []
    },
    {
      "cell_type": "code",
      "source": [
        "df = pd.concat([df, filtered_df], ignore_index=True)\n",
        "df = pd.concat([df, filtered_df_2], ignore_index=True)\n",
        "df = pd.concat([df, filtered_df_3], ignore_index=True)\n",
        "df = pd.concat([df, filtered_df_4], ignore_index=True)\n",
        "df = pd.concat([df, filtered_df_5], ignore_index=True)\n",
        "df.shape"
      ],
      "metadata": {
        "colab": {
          "base_uri": "https://localhost:8080/"
        },
        "id": "jNHKW0aPAsFC",
        "outputId": "15f70167-0cb5-4231-9d24-f2cf51964cbc"
      },
      "execution_count": null,
      "outputs": [
        {
          "output_type": "execute_result",
          "data": {
            "text/plain": [
              "(29760, 2)"
            ]
          },
          "metadata": {},
          "execution_count": 27
        }
      ]
    },
    {
      "cell_type": "code",
      "source": [
        "df.to_csv('/content/drive/MyDrive/RAI/Responsible AI - Team #9 Folder/Audit/Improved Model/Improved_Data.csv', index = False)"
      ],
      "metadata": {
        "id": "7XfqShloBYu7"
      },
      "execution_count": null,
      "outputs": []
    },
    {
      "cell_type": "code",
      "source": [
        "categories = df[['Labels']].values.reshape(-1)\n",
        "\n",
        "counter_categories = Counter(categories)\n",
        "category_names = counter_categories.keys()\n",
        "category_values = counter_categories.values()\n",
        "\n",
        "y_pos = np.arange(len(category_names))\n",
        "\n",
        "plt.figure(1, figsize=(10, 5))\n",
        "plt.bar(y_pos, category_values, align='center', alpha=0.5)\n",
        "plt.xticks(y_pos, category_names)\n",
        "plt.ylabel('Number of texts')\n",
        "plt.title('Distribution of texts per category')\n",
        "plt.gca().yaxis.grid(True)\n",
        "plt.show()\n",
        "\n",
        "print(counter_categories)"
      ],
      "metadata": {
        "colab": {
          "base_uri": "https://localhost:8080/",
          "height": 485
        },
        "id": "1NpOdNQEBs4o",
        "outputId": "84821cdd-36c1-4b9b-f159-61e6d4d77a21"
      },
      "execution_count": null,
      "outputs": [
        {
          "output_type": "display_data",
          "data": {
            "text/plain": [
              "<Figure size 1000x500 with 1 Axes>"
            ],
            "image/png": "[encoded data removed]"
          },
          "metadata": {}
        },
        {
          "output_type": "stream",
          "name": "stdout",
          "text": [
            "Counter({0: 16341, 1: 13419})\n"
          ]
        }
      ]
    },
    {
      "cell_type": "code",
      "source": [
        "comments = df.Comments.values\n",
        "labels = df.Labels.values"
      ],
      "metadata": {
        "id": "LqjyEYtcB8lx"
      },
      "execution_count": null,
      "outputs": []
    },
    {
      "cell_type": "code",
      "source": [
        "tokenizer = BertTokenizer.from_pretrained('bert-base-uncased', do_lower_case=True)\n",
        "\n",
        "tokenized_texts = [tokenizer.tokenize(comment) for comment in comments]\n",
        "print (\"Tokenize the first sentence:\")\n",
        "print (tokenized_texts[0])"
      ],
      "metadata": {
        "colab": {
          "base_uri": "https://localhost:8080/"
        },
        "id": "8rtmwUM_B1nc",
        "outputId": "6fa350e0-3bb3-46d5-c785-278c43cbc804"
      },
      "execution_count": null,
      "outputs": [
        {
          "output_type": "stream",
          "name": "stderr",
          "text": [
            "100%|██████████| 231508/231508 [00:00<00:00, 3749700.46B/s]\n"
          ]
        },
        {
          "output_type": "stream",
          "name": "stdout",
          "text": [
            "Tokenize the first sentence:\n",
            "['[CLS]', '.', 'the', 'next', 'time', 'you', 'buy', 'a', 'car', ',', 'all', 'things', 'being', 'equal', ',', 'do', 'yourself', ',', 'your', 'children', ',', 'your', 'community', 'and', 'your', 'country', 'a', 'positive', 'thing', 'and', 'consider', 'buying', 'a', 'model', 'from', 'one', 'of', 'the', 'companies', 'that', 'build', 'vehicles', 'in', 'your', 'country', '.', 'honda', ',', 'gm', ',', 'ford', ',', 'chrysler', ',', 'toyota', ',', 'all', 'build', 'cars', 'in', 'canada', ',', 'contributing', 'to', 'our', 'economy', 'and', 'keeping', 'large', 'amounts', 'of', 'canadian', 'wealth', ',', 'in', 'canada', 'when', 'someone', 'buys', 'a', 'bmw', ',', 'sub', '##aru', ',', 'hyundai', '/', 'kia', ',', 'mercedes', ',', 'volvo', ',', 'mazda', ',', 'nissan', ',', 'audi', '/', 'porsche', ',', 'v', '##w', ',', 'jaguar', ',', 'land', 'rover', ',', 'you', 'are', 'sending', 'most', 'of', 'the', 'purchase', 'price', 'of', 'the', 'vehicle', 'out', 'of', 'canada', ',', 'never', 'to', 'benefit', 'yourself', 'or', 'your', 'children', 'or', 'your', 'fellow', 'canadians', '.', 'all', 'things', 'being', 'equal', ',', 'buy', 'canadian', '.', 'full', 'disclosure', '-', 'i', 'own', 'no', 'stock', 'in', 'any', 'auto', '##makers', 'nor', 'do', 'i', 'nor', 'any', 'of', 'my', 'family', 'work', 'in', 'the', 'auto', 'industry', '.', '.', '[SEP]']\n"
          ]
        }
      ]
    },
    {
      "cell_type": "code",
      "source": [
        "MAX_LEN = 128\n",
        "input_ids = [tokenizer.convert_tokens_to_ids(x) for x in tokenized_texts]\n",
        "input_ids = pad_sequences(input_ids, maxlen=MAX_LEN, dtype=\"long\", truncating=\"post\", padding=\"post\")"
      ],
      "metadata": {
        "id": "-u64O4D2B5zn"
      },
      "execution_count": null,
      "outputs": []
    },
    {
      "cell_type": "code",
      "source": [
        "attention_masks = []\n",
        "\n",
        "for seq in input_ids:\n",
        "  seq_mask = [float(i>0) for i in seq]\n",
        "  attention_masks.append(seq_mask)"
      ],
      "metadata": {
        "id": "Jo9aqxzGCFkV"
      },
      "execution_count": null,
      "outputs": []
    },
    {
      "cell_type": "code",
      "source": [
        "train_inputs, validation_inputs, train_labels, validation_labels = train_test_split(input_ids, labels, random_state=2018, test_size=0.1)\n",
        "train_masks, validation_masks, _, _ = train_test_split(attention_masks, input_ids, random_state=2018, test_size=0.1)"
      ],
      "metadata": {
        "id": "-M5WFIJuCHTc"
      },
      "execution_count": null,
      "outputs": []
    },
    {
      "cell_type": "code",
      "source": [
        "train_inputs = torch.tensor(train_inputs).to('cuda')\n",
        "validation_inputs = torch.tensor(validation_inputs).to('cuda')\n",
        "train_labels = torch.tensor(train_labels).to('cuda')\n",
        "validation_labels = torch.tensor(validation_labels).to('cuda')\n",
        "train_masks = torch.tensor(train_masks).to('cuda')\n",
        "validation_masks = torch.tensor(validation_masks).to('cuda')"
      ],
      "metadata": {
        "id": "lz-q4WBTCIn2"
      },
      "execution_count": null,
      "outputs": []
    },
    {
      "cell_type": "code",
      "source": [
        "batch_size = 64\n",
        "\n",
        "train_data = TensorDataset(train_inputs, train_masks, train_labels)\n",
        "train_sampler = RandomSampler(train_data)\n",
        "train_dataloader = DataLoader(train_data, sampler=train_sampler, batch_size=batch_size)\n",
        "\n",
        "validation_data = TensorDataset(validation_inputs, validation_masks, validation_labels)\n",
        "validation_sampler = SequentialSampler(validation_data)\n",
        "validation_dataloader = DataLoader(validation_data, sampler=validation_sampler, batch_size=batch_size)"
      ],
      "metadata": {
        "id": "XOMqF0k5CI6F"
      },
      "execution_count": null,
      "outputs": []
    },
    {
      "cell_type": "code",
      "source": [
        "model = BertForSequenceClassification.from_pretrained(\"bert-base-uncased\", num_labels=2)"
      ],
      "metadata": {
        "colab": {
          "base_uri": "https://localhost:8080/"
        },
        "id": "TE7lRGXICKUs",
        "outputId": "e4ceb012-7ed1-4a11-9f3f-816dbf1c0113"
      },
      "execution_count": null,
      "outputs": [
        {
          "output_type": "stream",
          "name": "stderr",
          "text": [
            "100%|██████████| 407873900/407873900 [00:05<00:00, 73495469.30B/s]\n"
          ]
        }
      ]
    },
    {
      "cell_type": "code",
      "source": [
        "param_optimizer = list(model.named_parameters())\n",
        "no_decay = ['bias', 'gamma', 'beta']\n",
        "optimizer_grouped_parameters = [{'params': [p for n, p in param_optimizer if not any(nd in n for nd in no_decay)],'weight_decay_rate': 0.01},\n",
        "                                {'params': [p for n, p in param_optimizer if any(nd in n for nd in no_decay)],'weight_decay_rate': 0.0}]"
      ],
      "metadata": {
        "id": "12ViK9w7CNL_"
      },
      "execution_count": null,
      "outputs": []
    },
    {
      "cell_type": "code",
      "source": [
        "optimizer = BertAdam(optimizer_grouped_parameters,lr=2e-5,warmup=.1)"
      ],
      "metadata": {
        "colab": {
          "base_uri": "https://localhost:8080/"
        },
        "id": "7_eTUpe-CNjj",
        "outputId": "26a332d0-93e5-41a4-8484-7a3b85f2a92e"
      },
      "execution_count": null,
      "outputs": [
        {
          "output_type": "stream",
          "name": "stderr",
          "text": [
            "WARNING:pytorch_pretrained_bert.optimization:t_total value of -1 results in schedule not being applied\n"
          ]
        }
      ]
    },
    {
      "cell_type": "code",
      "source": [
        "def flat_accuracy(preds, labels):\n",
        "    pred_flat = np.argmax(preds, axis=1).flatten()\n",
        "    labels_flat = labels.flatten()\n",
        "    return np.sum(pred_flat == labels_flat) / len(labels_flat)"
      ],
      "metadata": {
        "id": "twehFu0BCPEc"
      },
      "execution_count": null,
      "outputs": []
    },
    {
      "cell_type": "code",
      "source": [
        "import tqdm\n",
        "\n",
        "t = [] \n",
        "train_loss_set = []\n",
        "epochs = 10\n",
        "device = 'cuda'\n",
        "model.to(device)\n",
        "\n",
        "for epoch in range(epochs):\n",
        "  model.train()\n",
        "  tr_loss = 0\n",
        "  nb_tr_examples, nb_tr_steps = 0, 0\n",
        "  for step, batch in tqdm.tqdm(enumerate(train_dataloader)):\n",
        "    b_input_ids, b_input_mask, b_labels = batch\n",
        "    optimizer.zero_grad()\n",
        "    loss = model(b_input_ids, token_type_ids=None, attention_mask=b_input_mask, labels=b_labels)\n",
        "    train_loss_set.append(loss.item())    \n",
        "    loss.backward()\n",
        "    optimizer.step()\n",
        "    \n",
        "    tr_loss += loss.item()\n",
        "    nb_tr_examples += b_input_ids.size(0)\n",
        "    nb_tr_steps += 1\n",
        "  \n",
        "  print(\"Epoch {}:\".format(epoch+1))\n",
        "  print(\"Train loss: {}\".format(tr_loss/nb_tr_steps))\n",
        "    \n",
        "  model.eval()\n",
        "\n",
        "  eval_loss, eval_accuracy = 0, 0\n",
        "  nb_eval_steps, nb_eval_examples = 0, 0\n",
        "  for batch in validation_dataloader:\n",
        "    b_input_ids, b_input_mask, b_labels = batch\n",
        "    with torch.no_grad():\n",
        "      logits = model(b_input_ids, token_type_ids=None, attention_mask=b_input_mask)\n",
        "\n",
        "    logits = logits.detach().cpu().numpy()\n",
        "    label_ids = b_labels.to('cpu').numpy()\n",
        "\n",
        "    tmp_eval_accuracy = flat_accuracy(logits, label_ids)\n",
        "    \n",
        "    eval_accuracy += tmp_eval_accuracy\n",
        "    nb_eval_steps += 1\n",
        "\n",
        "  print(\"Validation Accuracy: {}\".format(eval_accuracy/nb_eval_steps))"
      ],
      "metadata": {
        "colab": {
          "base_uri": "https://localhost:8080/"
        },
        "id": "b757je48CQYJ",
        "outputId": "5ea15a67-28ad-419d-8dea-53c6e4c6c155"
      },
      "execution_count": null,
      "outputs": [
        {
          "output_type": "stream",
          "name": "stderr",
          "text": [
            "419it [11:05,  1.59s/it]\n"
          ]
        },
        {
          "output_type": "stream",
          "name": "stdout",
          "text": [
            "Epoch 1:\n",
            "Train loss: 0.3794552255999786\n",
            "Validation Accuracy: 0.8693484042553191\n"
          ]
        },
        {
          "output_type": "stream",
          "name": "stderr",
          "text": [
            "419it [11:08,  1.60s/it]\n"
          ]
        },
        {
          "output_type": "stream",
          "name": "stdout",
          "text": [
            "Epoch 2:\n",
            "Train loss: 0.2021037621383593\n",
            "Validation Accuracy: 0.8902925531914894\n"
          ]
        },
        {
          "output_type": "stream",
          "name": "stderr",
          "text": [
            "419it [11:09,  1.60s/it]\n"
          ]
        },
        {
          "output_type": "stream",
          "name": "stdout",
          "text": [
            "Epoch 3:\n",
            "Train loss: 0.09677740061980158\n",
            "Validation Accuracy: 0.890625\n"
          ]
        },
        {
          "output_type": "stream",
          "name": "stderr",
          "text": [
            "419it [11:08,  1.60s/it]\n"
          ]
        },
        {
          "output_type": "stream",
          "name": "stdout",
          "text": [
            "Epoch 4:\n",
            "Train loss: 0.04688728293198381\n",
            "Validation Accuracy: 0.8902925531914894\n"
          ]
        },
        {
          "output_type": "stream",
          "name": "stderr",
          "text": [
            "419it [11:09,  1.60s/it]\n"
          ]
        },
        {
          "output_type": "stream",
          "name": "stdout",
          "text": [
            "Epoch 5:\n",
            "Train loss: 0.025497288658613726\n",
            "Validation Accuracy: 0.8916223404255319\n"
          ]
        },
        {
          "output_type": "stream",
          "name": "stderr",
          "text": [
            "419it [11:09,  1.60s/it]\n"
          ]
        },
        {
          "output_type": "stream",
          "name": "stdout",
          "text": [
            "Epoch 6:\n",
            "Train loss: 0.020106162380639392\n",
            "Validation Accuracy: 0.8909574468085106\n"
          ]
        },
        {
          "output_type": "stream",
          "name": "stderr",
          "text": [
            "419it [11:09,  1.60s/it]\n"
          ]
        },
        {
          "output_type": "stream",
          "name": "stdout",
          "text": [
            "Epoch 7:\n",
            "Train loss: 0.011251237181316492\n",
            "Validation Accuracy: 0.8916223404255319\n"
          ]
        },
        {
          "output_type": "stream",
          "name": "stderr",
          "text": [
            "419it [11:09,  1.60s/it]\n"
          ]
        },
        {
          "output_type": "stream",
          "name": "stdout",
          "text": [
            "Epoch 8:\n",
            "Train loss: 0.00956063427902488\n",
            "Validation Accuracy: 0.8853058510638298\n"
          ]
        },
        {
          "output_type": "stream",
          "name": "stderr",
          "text": [
            "419it [11:08,  1.60s/it]\n"
          ]
        },
        {
          "output_type": "stream",
          "name": "stdout",
          "text": [
            "Epoch 9:\n",
            "Train loss: 0.01052428615441477\n",
            "Validation Accuracy: 0.8939494680851063\n"
          ]
        },
        {
          "output_type": "stream",
          "name": "stderr",
          "text": [
            "419it [11:08,  1.60s/it]\n"
          ]
        },
        {
          "output_type": "stream",
          "name": "stdout",
          "text": [
            "Epoch 10:\n",
            "Train loss: 0.007565776769885613\n",
            "Validation Accuracy: 0.8919547872340425\n"
          ]
        }
      ]
    },
    {
      "cell_type": "code",
      "source": [
        "plt.figure(figsize=(15,8))\n",
        "plt.title(\"Training loss\")\n",
        "plt.xlabel(\"Batch\")\n",
        "plt.ylabel(\"Loss\")\n",
        "plt.plot(train_loss_set)\n",
        "plt.show()"
      ],
      "metadata": {
        "colab": {
          "base_uri": "https://localhost:8080/",
          "height": 718
        },
        "id": "zTj4FNS7CThF",
        "outputId": "370c2109-0b2d-49fc-8fb4-3615e81ed4e1"
      },
      "execution_count": null,
      "outputs": [
        {
          "output_type": "display_data",
          "data": {
            "text/plain": [
              "<Figure size 1500x800 with 1 Axes>"
            ],
            "image/png": "[encoded data removed]"
          },
          "metadata": {}
        }
      ]
    },
    {
      "cell_type": "code",
      "source": [
        " torch.save(model.state_dict(), '/content/drive/MyDrive/RAI/Responsible AI - Team #9 Folder/Audit/Improved Model/BERT_pretrained.pth')"
      ],
      "metadata": {
        "id": "U-wHNbaVCVWN"
      },
      "execution_count": null,
      "outputs": []
    }
  ]
}